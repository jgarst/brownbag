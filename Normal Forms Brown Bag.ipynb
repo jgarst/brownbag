{
 "cells": [
  {
   "cell_type": "markdown",
   "metadata": {
    "slideshow": {
     "slide_type": "slide"
    }
   },
   "source": [
    "<h1>These slides at</h1>\n",
    "<h1>https://www.tinyurl.com/nf-brownbag</h1>"
   ]
  },
  {
   "cell_type": "markdown",
   "metadata": {
    "slideshow": {
     "slide_type": "slide"
    }
   },
   "source": [
    "<h1 style=\"margin-right: auto;margin-left: auto;\">Some ideas are easier to remember than others</h1>\n",
    "\n",
    "<h3>My favorite frustrating idea is from statistics:</h3>\n",
    "<br/>\n",
    "\n",
    "<ul style=\"list-style-type:none;\">\n",
    "    <li><strong>Type 1 Error</strong>: false negative</li>\n",
    "    <li><strong>Type 2 Error</strong>: false positive</li>\n",
    "    <li><strong>Type 3 Error</strong>: confusing type 1 and type 2 errors</li>\n",
    "    <li><strong>Type 4 Error</strong>: assigning numbers to concepts, instead of descriptive names</li>\n",
    "</ul>"
   ]
  },
  {
   "cell_type": "markdown",
   "metadata": {
    "slideshow": {
     "slide_type": "slide"
    }
   },
   "source": [
    "<h1>Boyce-Codd Normal Form</h1>\n",
    "\n",
    "<h3>A great idea with terrible framing</h3>\n",
    "\n",
    "<ul style=\"list-style-type:none;\">\n",
    "    <li><strong>1NF</strong>: origins</li>\n",
    "    <li><strong>2NF</strong>: normal form returns</li>\n",
    "    <li><strong>3NF</strong>: revenge of the normal form</li>\n",
    "    <li><strong>BCNF</strong>: wacky spinoff</li>\n",
    "    <li><strong>4NF</strong>: child of the normal form</li>\n",
    "    <li><strong>5NF</strong>: normal forms in space</li>\n",
    "</ul>"
   ]
  },
  {
   "cell_type": "markdown",
   "metadata": {
    "slideshow": {
     "slide_type": "slide"
    }
   },
   "source": [
    "<h1>Boyce-Codd Normal Form</h1>\n",
    "\n",
    "<h3>A great idea with terrible framing</h3>\n",
    "</br>\n",
    "\n",
    "<ul style=\"list-style-type:none;\">\n",
    "    <li><strong>1NF</strong>: columns represent individual values</li>\n",
    "    <li><strong>2NF</strong>: columns depend on the entire key</li>\n",
    "    <li><strong>3NF</strong>: columns do not depend on other columns</li>\n",
    "    <li><strong>BCNF</strong>: primary keys are as small as possible</li>\n",
    "    <li><strong>4NF</strong>: independent values have seperate tables</li>\n",
    "    <li><strong>5NF</strong>: intermediate tables are removed</li>\n",
    "</ul>\n",
    "</h3>"
   ]
  },
  {
   "cell_type": "markdown",
   "metadata": {
    "slideshow": {
     "slide_type": "slide"
    }
   },
   "source": [
    "<h3><center>Normal Form doesn't mean anything</center></h3>\n",
    "\n",
    "<blockquote>\n",
    "<strong>Interviewer</strong>: Where did \"normalization\" come from?\n",
    "\n",
    "<strong>Codd</strong>: It seemed to me essential that some discipline be introduced into database design.\n",
    "I called it normalization because then President Nixon was talking a lot about normalizing relations with China.\n",
    "I figured that if he could normalize relations, so could I.\n",
    "</blockquote>\n",
    "\n",
    "\"A Fireside Chat: Interview with Dr. Edgar F. Codd\" (DBMS Magazine 6, No. 13, December 1993)"
   ]
  },
  {
   "cell_type": "markdown",
   "metadata": {
    "slideshow": {
     "slide_type": "slide"
    }
   },
   "source": [
    "<h1><center>Normalization also means, like, a million other things</center></h1>\n"
   ]
  },
  {
   "cell_type": "markdown",
   "metadata": {},
   "source": [
    "![a list of wikipedia pages for Normal Form](too-many-normals.png \"Too Many Normals\")"
   ]
  },
  {
   "cell_type": "markdown",
   "metadata": {
    "slideshow": {
     "slide_type": "slide"
    }
   },
   "source": [
    "<h1>What is the good news?</h1>\n",
    "\n",
    "* More than any other design principle, it talks directly about data dependencies\n",
    "* Other data design is inevitably in conversation with BCNF"
   ]
  },
  {
   "cell_type": "markdown",
   "metadata": {
    "slideshow": {
     "slide_type": "slide"
    }
   },
   "source": [
    "<h1> Dependencies vs Functional Dependencies</h1>\n",
    "<br/>\n",
    "<br/>\n",
    "<img src=\"dependency.png\" width=\"1000\" style=\"display: block;margin-left:auto; margin-right: auto\"/>"
   ]
  },
  {
   "cell_type": "markdown",
   "metadata": {
    "slideshow": {
     "slide_type": "slide"
    }
   },
   "source": [
    "<h1> Dependencies vs Functional Dependencies</h1>\n",
    "<br/>\n",
    "Y functionally depends on X\n",
    "<br/>\n",
    "<br/>\n",
    "<center>$$ (X) -> (Y) $$</center>\n",
    "<br/>\n",
    "If the same $X$ value implies the same $Y$ value.\n",
    "\n",
    "Think <strong>$Y$ is a fact about $X$</strong>\n",
    "\n",
    "</br>\n",
    "\n",
    "Or <strong>Knowledge of $Y$ comes from $X$</strong>"
   ]
  },
  {
   "cell_type": "markdown",
   "metadata": {
    "slideshow": {
     "slide_type": "slide"
    }
   },
   "source": [
    "<h1> Dependencies vs Functional Dependencies</h1>\n",
    "\n",
    "From wikipedia\n",
    "\n",
    "| Student Id | Semester | Lecture | Lecturer   |\n",
    "| ---------- | -------- | ------- | ---------- |\n",
    "| 1234       | 6        | Numbers | Jane       |\n",
    "| 1234       | 6        | Words   | Tom        |\n",
    "| 1221       | 4        | Numbers | Alyx       |\n",
    "\n",
    "Implies functional dependencies  \n",
    "<ul>\n",
    "    <li>{Student ID} -> {Semester}</li>\n",
    "    <li>{Student ID, Semester} -> {Lecturer}</li>\n",
    "    <li>{Student ID, Semester} -> {Semester, Lecturer}</li>\n",
    "</ul>"
   ]
  },
  {
   "cell_type": "markdown",
   "metadata": {
    "slideshow": {
     "slide_type": "slide"
    }
   },
   "source": [
    "<h1><center>Boyce-Codd Normal Form</center></h1>\n",
    "\n",
    "<h3><center><s>A great idea with terrible framing</s></center></h3>\n",
    "<h3><center>What do we talk about when we talk about data dependencies?</center></h3>\n",
    "<br/>\n",
    "\n",
    "\n",
    "<center><em style=\"font-size:large;\">The model is relational</em></center>\n",
    "<ul style=\"list-style-type:none;font-size:large;\">\n",
    "    <li><strong>1NF</strong>: columns represent individual values<br/><br/></li>\n",
    "</ul>\n",
    "\n",
    "<center><em style=\"font-size:large;\">Every fact is a fact about the key, the whole key, and nothing but the key</em></center>\n",
    "\n",
    "<ul style=\"list-style-type:none;font-size:large;\">\n",
    "    <li><strong>2NF</strong>: columns depend on the entire key</li>\n",
    "    <li><strong>3NF</strong>: columns do not depend on other columns</li>\n",
    "    <li><strong>BCNF</strong>: primary keys are as small as possible</li>\n",
    "</ul>\n",
    "<br/>\n",
    "\n",
    "<center><em style=\"font-size:large;\">Independent variables have their own tables</em></center>\n",
    "\n",
    "<ul style=\"list-style-type:none;font-size:large;\">\n",
    "    <li><strong>4NF</strong>: split indipendent multi-valued columns</li>\n",
    "    <li><strong>5NF</strong>: intermediate tables are extracted</li>\n",
    "</ul>"
   ]
  },
  {
   "cell_type": "markdown",
   "metadata": {
    "slideshow": {
     "slide_type": "slide"
    }
   },
   "source": [
    "<h1><a href=\"https://www.bkent.net/Doc/simple5.htm\">A Simple Guid to Five Normal Forms</a></h1>\n",
    "\n",
    "Bill Kent is great, this is one of my favorite documents on database design."
   ]
  },
  {
   "cell_type": "markdown",
   "metadata": {
    "slideshow": {
     "slide_type": "slide"
    }
   },
   "source": [
    "<h1>The model is relational</h1>\n",
    "</br>\n",
    "\n",
    "<h3>First Normal Form</h3>\n",
    "<strong>All occurences of a record type must contain the same number of fields</strong>\n",
    "\n",
    "<em> Hard to use </em>\n",
    "\n",
    "| Person | Phone Number                         | \n",
    "| ------ |:------------------------------------ |\n",
    "| 1      | (555) 555 -- 5555, (555) 555 -- 5556 |\n",
    "| 2      | (666) 666 -- 6666                    |\n",
    "\n",
    "<em> Also hard to use </em>\n",
    "\n",
    "| Person | Phone Number 1    | Phone Number 2    | \n",
    "| ------ |:------------------|:----------------- |\n",
    "| 1      | (555) 555 -- 5555 | (555) 555 -- 5556 |\n",
    "| 2      | (666) 666 -- 6666 | NULL              |"
   ]
  },
  {
   "cell_type": "markdown",
   "metadata": {
    "slideshow": {
     "slide_type": "slide"
    }
   },
   "source": [
    "<h1>Every fact is a fact about the key, the whole key, and nothing but the key</h1>\n",
    "\n",
    "</br>\n",
    "\n",
    "<h3>Second Normal Form</h3>\n",
    "<strong>All non-key fields are facts about the whole key</strong>\n",
    "\n",
    "<em>Hard to update correctly, leads to inconsistencies</em>\n",
    "\n",
    "\\----------------------------------------------------------------------  \n",
    "| Part | Warehouse | Quantity | Warehouse-address |  \n",
    "\\=======================------------------------------  \n",
    "\n",
    "<h3>Third Normal Form</h3>\n",
    "<strong>No non-key fields are facts about other non-key fields</strong>\n",
    "\n",
    "<em>Even harder to update correctly</em>\n",
    "\n",
    "\\-------------------------------------------------  \n",
    "| Employee | Department | Location |  \n",
    "\\=========---------------------------------  "
   ]
  },
  {
   "cell_type": "markdown",
   "metadata": {
    "slideshow": {
     "slide_type": "slide"
    }
   },
   "source": [
    "<h1>Independent variables have their own tables</h1>\n",
    "\n",
    "<h3>Fourth Normal Form</h3>\n",
    "<strong>records do not contain two or more independent multi-valued facts</strong>\n",
    "\n",
    "<em>leads to an ugly cross product, duplicates, ambiguous model</em>\n",
    "\n",
    "| Employee | Skill | Language |  \n",
    "| -------- | ----- | -------- |  \n",
    "\n",
    "<h3>Fifth Normal Form</h3>\n",
    "<strong>records are factored completely</strong>\n",
    "\n",
    "| AGENT | COMPANY | PRODUCT |  \n",
    "|:-----:|:-------:|:-------:|  \n",
    "| Smith | Ford    | car     |  \n",
    "| Smith | Ford    | truck   |  \n",
    "| Smith | GM      | car     |  \n",
    "| Smith | GM      | truck   |  \n",
    "| Jones | Ford    | car     |  \n"
   ]
  },
  {
   "cell_type": "markdown",
   "metadata": {
    "slideshow": {
     "slide_type": "slide"
    }
   },
   "source": [
    "<h3>The Good</h3>\n",
    "<ul>\n",
    "    <li>Makes it really hard to make incorrect updates</li>\n",
    "    <li>Self consistent.  If you know the theory you can anticipate the schema.</li>\n",
    "</ul>\n",
    "\n",
    "<h3>The Bad</h3>\n",
    "<ul>\n",
    "    <li>Relies on the query planner to join a million tiny tables</li>\n",
    "    <li>Can be brittle in the face of business changes</li>\n",
    "</ul>\n",
    "\n",
    "<h3>The Ugly</h3>\n",
    "<ul>\n",
    "    <li>A million tiny tables, each of which you have to explain</li>\n",
    "    <li>Greybeards will keep trying to tell you about set theory</li>\n",
    "</ul>\n"
   ]
  },
  {
   "cell_type": "markdown",
   "metadata": {
    "slideshow": {
     "slide_type": "slide"
    }
   },
   "source": [
    "<h3>What do I think?</h3>\n",
    "\n",
    "It isn't exactly our use case, but looker seems like it is really good at denormalizing.  So I feel pretty good!\n",
    "\n",
    "We frequently don't have primary keys.\n",
    "<ul>\n",
    "    <li>Makes double counting easy/inevitable</li>\n",
    "    <li>Makes tracing the information impossible</li>\n",
    "    <li>Leads to modeling misses</li>\n",
    "</ul>"
   ]
  },
  {
   "cell_type": "markdown",
   "metadata": {
    "slideshow": {
     "slide_type": "slide"
    }
   },
   "source": [
    "<h3>Other modeling frameworks</h3>\n",
    "\n",
    "<ul>\n",
    "    <li><a href=\"http://vita.had.co.nz/papers/tidy-data.pdf\">Tidy Data</a></li>\n",
    "    <li><a href=\"https://www.kimballgroup.com/data-warehouse-business-intelligence-resources/kimball-techniques/dimensional-modeling-techniques/\">Dimensional Modeling</a></li>\n",
    "</ul>"
   ]
  }
 ],
 "metadata": {
  "celltoolbar": "Slideshow",
  "kernelspec": {
   "display_name": "Python 3",
   "language": "python",
   "name": "python3"
  },
  "language_info": {
   "codemirror_mode": {
    "name": "ipython",
    "version": 3
   },
   "file_extension": ".py",
   "mimetype": "text/x-python",
   "name": "python",
   "nbconvert_exporter": "python",
   "pygments_lexer": "ipython3",
   "version": "3.8.2"
  },
  "rise": {
   "autolaunch": true,
   "enable_chalkboard": true
  }
 },
 "nbformat": 4,
 "nbformat_minor": 4
}
